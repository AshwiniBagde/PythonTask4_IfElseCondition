{
 "cells": [
  {
   "cell_type": "markdown",
   "metadata": {},
   "source": [
    "Example 1"
   ]
  },
  {
   "cell_type": "code",
   "execution_count": 9,
   "metadata": {},
   "outputs": [],
   "source": [
    "age = [15, 18, 25, 31, 10, 17, 44, 33, 12, 19, 13, 29, 50, 10, 37]"
   ]
  },
  {
   "cell_type": "code",
   "execution_count": 11,
   "metadata": {},
   "outputs": [
    {
     "name": "stdout",
     "output_type": "stream",
     "text": [
      "age =  15\n",
      "Not eligible to vote\n",
      "* *\n",
      "age =  18\n",
      "Eligible to vote\n",
      "* *\n",
      "age =  25\n",
      "Eligible to vote\n",
      "* *\n",
      "age =  31\n",
      "Eligible to vote\n",
      "* *\n",
      "age =  10\n",
      "Not eligible to vote\n",
      "* *\n",
      "age =  17\n",
      "Not eligible to vote\n",
      "* *\n",
      "age =  44\n",
      "Eligible to vote\n",
      "* *\n",
      "age =  33\n",
      "Eligible to vote\n",
      "* *\n",
      "age =  12\n",
      "Not eligible to vote\n",
      "* *\n",
      "age =  19\n",
      "Eligible to vote\n",
      "* *\n",
      "age =  13\n",
      "Not eligible to vote\n",
      "* *\n",
      "age =  29\n",
      "Eligible to vote\n",
      "* *\n",
      "age =  50\n",
      "Eligible to vote\n",
      "* *\n",
      "age =  10\n",
      "Not eligible to vote\n",
      "* *\n",
      "age =  37\n",
      "Eligible to vote\n",
      "* *\n"
     ]
    }
   ],
   "source": [
    "for number in age:\n",
    "    age = number\n",
    "    print('age = ',number)\n",
    "    if age >=18:\n",
    "        print('Eligible to vote')\n",
    "    else:\n",
    "        print('Not eligible to vote')\n",
    "    print('* *')\n",
    "    "
   ]
  },
  {
   "cell_type": "markdown",
   "metadata": {},
   "source": [
    "Example 2"
   ]
  },
  {
   "cell_type": "code",
   "execution_count": 30,
   "metadata": {},
   "outputs": [],
   "source": [
    "users = ['user1', 'user2', 'user6', 'user9', 'user4', 'user11', 'user18', 'user10', 'user15', 'user21', 'user31', 'user7', 'user29', 'user31', 'user3']"
   ]
  },
  {
   "cell_type": "code",
   "execution_count": 31,
   "metadata": {},
   "outputs": [
    {
     "name": "stdout",
     "output_type": "stream",
     "text": [
      "user =  user1\n",
      "user1 ends with an odd value.\n",
      "- - -\n",
      "user =  user2\n",
      "user2 ends with an even value.\n",
      "- - -\n",
      "user =  user6\n",
      "user6 ends with an even value.\n",
      "- - -\n",
      "user =  user9\n",
      "user9 ends with an odd value.\n",
      "- - -\n",
      "user =  user4\n",
      "user4 ends with an even value.\n",
      "- - -\n",
      "user =  user11\n",
      "user11 ends with an odd value.\n",
      "- - -\n",
      "user =  user18\n",
      "user18 ends with an even value.\n",
      "- - -\n",
      "user =  user10\n",
      "user10 ends with an even value.\n",
      "- - -\n",
      "user =  user15\n",
      "user15 ends with an odd value.\n",
      "- - -\n",
      "user =  user21\n",
      "user21 ends with an odd value.\n",
      "- - -\n",
      "user =  user31\n",
      "user31 ends with an odd value.\n",
      "- - -\n",
      "user =  user7\n",
      "user7 ends with an odd value.\n",
      "- - -\n",
      "user =  user29\n",
      "user29 ends with an odd value.\n",
      "- - -\n",
      "user =  user31\n",
      "user31 ends with an odd value.\n",
      "- - -\n",
      "user =  user3\n",
      "user3 ends with an odd value.\n",
      "- - -\n"
     ]
    }
   ],
   "source": [
    "for user in users:\n",
    "    users = user\n",
    "    print('user = ',user)\n",
    "    if int(user[-1]) % 2 == 0:\n",
    "        print(f'{user} ends with an even value.')\n",
    "    else:\n",
    "        print(f'{user} ends with an odd value.')\n",
    "    print('- - -')"
   ]
  },
  {
   "cell_type": "markdown",
   "metadata": {},
   "source": [
    "Example 3"
   ]
  },
  {
   "cell_type": "code",
   "execution_count": 43,
   "metadata": {},
   "outputs": [],
   "source": [
    "PinCode = [840034, 123456, 456756, 374589, 894567, 295678, 128976, 683546, 387654, 836587, 678945, 135897, 785612,678945,678945]"
   ]
  },
  {
   "cell_type": "code",
   "execution_count": 44,
   "metadata": {},
   "outputs": [
    {
     "name": "stdout",
     "output_type": "stream",
     "text": [
      "PinCode =  840034\n",
      "Eastern Region\n",
      ". . . .\n",
      "PinCode =  123456\n",
      "Northern Region\n",
      ". . . .\n",
      "PinCode =  456756\n",
      "Other Region\n",
      ". . . .\n",
      "PinCode =  374589\n",
      "western Region\n",
      ". . . .\n",
      "PinCode =  894567\n",
      "Eastern Region\n",
      ". . . .\n",
      "PinCode =  295678\n",
      "Other Region\n",
      ". . . .\n",
      "PinCode =  128976\n",
      "Northern Region\n",
      ". . . .\n",
      "PinCode =  683546\n",
      "Southern Region\n",
      ". . . .\n",
      "PinCode =  387654\n",
      "western Region\n",
      ". . . .\n",
      "PinCode =  836587\n",
      "Eastern Region\n",
      ". . . .\n",
      "PinCode =  678945\n",
      "Southern Region\n",
      ". . . .\n",
      "PinCode =  135897\n",
      "Northern Region\n",
      ". . . .\n",
      "PinCode =  785612\n",
      "Other Region\n",
      ". . . .\n",
      "PinCode =  678945\n",
      "Southern Region\n",
      ". . . .\n",
      "PinCode =  678945\n",
      "Southern Region\n",
      ". . . .\n"
     ]
    }
   ],
   "source": [
    "for code in PinCode:\n",
    "    PinCode = code\n",
    "    print('PinCode = ',code)\n",
    "    if str(code).startswith('1'):\n",
    "        print('Northern Region')\n",
    "    elif str(code).startswith('3'):\n",
    "        print('western Region')\n",
    "    elif str(code).startswith('6'):\n",
    "        print('Southern Region')\n",
    "    elif str(code).startswith('8'):\n",
    "        print('Eastern Region')\n",
    "    else:\n",
    "        print('Other Region')\n",
    "    print('. . . .')"
   ]
  },
  {
   "cell_type": "markdown",
   "metadata": {},
   "source": [
    "Example 4"
   ]
  },
  {
   "cell_type": "code",
   "execution_count": 55,
   "metadata": {},
   "outputs": [],
   "source": [
    "years = [2025, 2024, 2021, 2019, 2016, 2011, 1996, 1993, 1998, 1973, 1963, 2026, 2030, 2023,2034]"
   ]
  },
  {
   "cell_type": "code",
   "execution_count": 56,
   "metadata": {},
   "outputs": [
    {
     "name": "stdout",
     "output_type": "stream",
     "text": [
      "Year =  2025\n",
      "not leap year\n",
      "* * *\n",
      "Year =  2024\n",
      "Leap Year\n",
      "* * *\n",
      "Year =  2021\n",
      "not leap year\n",
      "* * *\n",
      "Year =  2019\n",
      "not leap year\n",
      "* * *\n",
      "Year =  2016\n",
      "Leap Year\n",
      "* * *\n",
      "Year =  2011\n",
      "not leap year\n",
      "* * *\n",
      "Year =  1996\n",
      "Leap Year\n",
      "* * *\n",
      "Year =  1993\n",
      "not leap year\n",
      "* * *\n",
      "Year =  1998\n",
      "not leap year\n",
      "* * *\n",
      "Year =  1973\n",
      "not leap year\n",
      "* * *\n",
      "Year =  1963\n",
      "not leap year\n",
      "* * *\n",
      "Year =  2026\n",
      "not leap year\n",
      "* * *\n",
      "Year =  2030\n",
      "not leap year\n",
      "* * *\n",
      "Year =  2023\n",
      "not leap year\n",
      "* * *\n",
      "Year =  2034\n",
      "not leap year\n",
      "* * *\n"
     ]
    }
   ],
   "source": [
    "for year in years:\n",
    "    years = year\n",
    "    print('Year = ',year)\n",
    "    if year % 4 == 0:\n",
    "        print('Leap Year')\n",
    "    else:\n",
    "        print('not leap year')\n",
    "    print('* * *')"
   ]
  },
  {
   "cell_type": "markdown",
   "metadata": {},
   "source": [
    "Example 5"
   ]
  },
  {
   "cell_type": "code",
   "execution_count": 67,
   "metadata": {},
   "outputs": [],
   "source": [
    "Numbers = [-1, 34, 0, -8, 67, -6, 100, 0, -9, 0, -89, 12, -34, -1000, 98]"
   ]
  },
  {
   "cell_type": "code",
   "execution_count": 68,
   "metadata": {},
   "outputs": [
    {
     "name": "stdout",
     "output_type": "stream",
     "text": [
      "Number =  -1\n",
      "Number is negative\n",
      ".....\n",
      "Number =  34\n",
      "Number is positive\n",
      ".....\n",
      "Number =  0\n",
      "Number is zero\n",
      ".....\n",
      "Number =  -8\n",
      "Number is negative\n",
      ".....\n",
      "Number =  67\n",
      "Number is positive\n",
      ".....\n",
      "Number =  -6\n",
      "Number is negative\n",
      ".....\n",
      "Number =  100\n",
      "Number is positive\n",
      ".....\n",
      "Number =  0\n",
      "Number is zero\n",
      ".....\n",
      "Number =  -9\n",
      "Number is negative\n",
      ".....\n",
      "Number =  0\n",
      "Number is zero\n",
      ".....\n",
      "Number =  -89\n",
      "Number is negative\n",
      ".....\n",
      "Number =  12\n",
      "Number is positive\n",
      ".....\n",
      "Number =  -34\n",
      "Number is negative\n",
      ".....\n",
      "Number =  -1000\n",
      "Number is negative\n",
      ".....\n",
      "Number =  98\n",
      "Number is positive\n",
      ".....\n"
     ]
    }
   ],
   "source": [
    "for number in Numbers:\n",
    "    Numbers = number\n",
    "    print('Number = ',number)\n",
    "    if number > 0:\n",
    "        print('Number is positive')\n",
    "    elif number < 0:\n",
    "        print('Number is negative')\n",
    "    else:\n",
    "        print('Number is zero')\n",
    "    print('.....')"
   ]
  },
  {
   "cell_type": "markdown",
   "metadata": {},
   "source": [
    "Example 6"
   ]
  },
  {
   "cell_type": "code",
   "execution_count": 72,
   "metadata": {},
   "outputs": [],
   "source": [
    "Fruits = ['Apple', 'Orange', 'Banana', 'Avocado', 'Cherry', 'Mango', 'Elderberry', 'Pineapple', 'Apricot','Blueberry','Grape','Peach', 'Kiwi','Strawberry', 'Raspberry']"
   ]
  },
  {
   "cell_type": "code",
   "execution_count": 73,
   "metadata": {},
   "outputs": [
    {
     "name": "stdout",
     "output_type": "stream",
     "text": [
      "Fruit =  Apple\n",
      "Apple starts with a vowel.\n",
      "- - -\n",
      "Fruit =  Orange\n",
      "Orange starts with a vowel.\n",
      "- - -\n",
      "Fruit =  Banana\n",
      "Banana starts with a consonant.\n",
      "- - -\n",
      "Fruit =  Avocado\n",
      "Avocado starts with a vowel.\n",
      "- - -\n",
      "Fruit =  Cherry\n",
      "Cherry starts with a consonant.\n",
      "- - -\n",
      "Fruit =  Mango\n",
      "Mango starts with a consonant.\n",
      "- - -\n",
      "Fruit =  Elderberry\n",
      "Elderberry starts with a vowel.\n",
      "- - -\n",
      "Fruit =  Pineapple\n",
      "Pineapple starts with a consonant.\n",
      "- - -\n",
      "Fruit =  Apricot\n",
      "Apricot starts with a vowel.\n",
      "- - -\n",
      "Fruit =  Blueberry\n",
      "Blueberry starts with a consonant.\n",
      "- - -\n",
      "Fruit =  Grape\n",
      "Grape starts with a consonant.\n",
      "- - -\n",
      "Fruit =  Peach\n",
      "Peach starts with a consonant.\n",
      "- - -\n",
      "Fruit =  Kiwi\n",
      "Kiwi starts with a consonant.\n",
      "- - -\n",
      "Fruit =  Strawberry\n",
      "Strawberry starts with a consonant.\n",
      "- - -\n",
      "Fruit =  Raspberry\n",
      "Raspberry starts with a consonant.\n",
      "- - -\n"
     ]
    }
   ],
   "source": [
    "for word in Fruits:\n",
    "    Fruits = word\n",
    "    print('Fruit = ',word)\n",
    "    if word[0].lower() in 'aeiou':\n",
    "        print(f'{word} starts with a vowel.')\n",
    "    else:\n",
    "        print(f'{word} starts with a consonant.')\n",
    "    print('- - -')"
   ]
  },
  {
   "cell_type": "markdown",
   "metadata": {},
   "source": [
    "Example 7"
   ]
  },
  {
   "cell_type": "code",
   "execution_count": 3,
   "metadata": {},
   "outputs": [],
   "source": [
    "Price = [200, 1000, 899, 305, 1060, 99, 749, 800, 100, 999, 2010, 55, 699, 467, 3856]"
   ]
  },
  {
   "cell_type": "code",
   "execution_count": 4,
   "metadata": {},
   "outputs": [
    {
     "name": "stdout",
     "output_type": "stream",
     "text": [
      "Price =  200\n",
      "Cheap\n",
      "- - -\n",
      "Price =  1000\n",
      "Expensive\n",
      "- - -\n",
      "Price =  899\n",
      "Affordable\n",
      "- - -\n",
      "Price =  305\n",
      "Cheap\n",
      "- - -\n",
      "Price =  1060\n",
      "Expensive\n",
      "- - -\n",
      "Price =  99\n",
      "Cheap\n",
      "- - -\n",
      "Price =  749\n",
      "Affordable\n",
      "- - -\n",
      "Price =  800\n",
      "Affordable\n",
      "- - -\n",
      "Price =  100\n",
      "Cheap\n",
      "- - -\n",
      "Price =  999\n",
      "Affordable\n",
      "- - -\n",
      "Price =  2010\n",
      "Expensive\n",
      "- - -\n",
      "Price =  55\n",
      "Cheap\n",
      "- - -\n",
      "Price =  699\n",
      "Affordable\n",
      "- - -\n",
      "Price =  467\n",
      "Cheap\n",
      "- - -\n",
      "Price =  3856\n",
      "Expensive\n",
      "- - -\n"
     ]
    }
   ],
   "source": [
    "for num in Price:\n",
    "    Price = num\n",
    "    print('Price = ',num)\n",
    "    if num >= 1000:\n",
    "        print('Expensive')\n",
    "    elif num < 1000 and num > 500:\n",
    "        print('Affordable')\n",
    "    else:\n",
    "        print('Cheap')\n",
    "    print('- - -')"
   ]
  },
  {
   "cell_type": "markdown",
   "metadata": {},
   "source": [
    "Example 8"
   ]
  },
  {
   "cell_type": "code",
   "execution_count": 19,
   "metadata": {},
   "outputs": [],
   "source": [
    "PhoneNo = ['+9112345', '+9165738', '+4485764', '+187674', '+9198567', '+4490875', '+81768489', '+4490876', '+9183485', '+5583759', '+19475838', '+4489076', '+1789746','+91897654']"
   ]
  },
  {
   "cell_type": "code",
   "execution_count": 21,
   "metadata": {},
   "outputs": [
    {
     "name": "stdout",
     "output_type": "stream",
     "text": [
      "PhoneNo =  +9112345\n",
      "This PhoneNo belongs to India\n",
      ". . . .\n",
      "PhoneNo =  +9165738\n",
      "This PhoneNo belongs to India\n",
      ". . . .\n",
      "PhoneNo =  +4485764\n",
      "This PhoneNo belongs to UK\n",
      ". . . .\n",
      "PhoneNo =  +187674\n",
      "This PhoneNo belongs to USA\n",
      ". . . .\n",
      "PhoneNo =  +9198567\n",
      "This PhoneNo belongs to India\n",
      ". . . .\n",
      "PhoneNo =  +4490875\n",
      "This PhoneNo belongs to UK\n",
      ". . . .\n",
      "PhoneNo =  +81768489\n",
      "Other Country\n",
      ". . . .\n",
      "PhoneNo =  +4490876\n",
      "This PhoneNo belongs to UK\n",
      ". . . .\n",
      "PhoneNo =  +9183485\n",
      "This PhoneNo belongs to India\n",
      ". . . .\n",
      "PhoneNo =  +5583759\n",
      "Other Country\n",
      ". . . .\n",
      "PhoneNo =  +19475838\n",
      "This PhoneNo belongs to USA\n",
      ". . . .\n",
      "PhoneNo =  +4489076\n",
      "This PhoneNo belongs to UK\n",
      ". . . .\n",
      "PhoneNo =  +1789746\n",
      "This PhoneNo belongs to USA\n",
      ". . . .\n",
      "PhoneNo =  +91897654\n",
      "This PhoneNo belongs to India\n",
      ". . . .\n"
     ]
    }
   ],
   "source": [
    "for num in PhoneNo:\n",
    "    print('PhoneNo = ', num)\n",
    "    if str(num).startswith('+91'):\n",
    "        print('This PhoneNo belongs to India')\n",
    "    elif str(num).startswith('+44'):\n",
    "        print('This PhoneNo belongs to UK')\n",
    "    elif str(num).startswith('+1'):\n",
    "        print('This PhoneNo belongs to USA')\n",
    "    else:\n",
    "        print('Other Country')\n",
    "    print('. . . .')\n"
   ]
  },
  {
   "cell_type": "markdown",
   "metadata": {},
   "source": [
    "Example 9"
   ]
  },
  {
   "cell_type": "code",
   "execution_count": 24,
   "metadata": {},
   "outputs": [],
   "source": [
    "Numbers = [25, 78, 30, 68, 187, 7896, 3, 305, 250, 33, 153, 90, 21, 789, 56]"
   ]
  },
  {
   "cell_type": "code",
   "execution_count": 26,
   "metadata": {},
   "outputs": [
    {
     "name": "stdout",
     "output_type": "stream",
     "text": [
      "Number =  25\n",
      "Divisible by 5\n",
      ".   .   .\n",
      "Number =  78\n",
      "Divisible by 3\n",
      ".   .   .\n",
      "Number =  30\n",
      "Divisible by 5\n",
      ".   .   .\n",
      "Number =  68\n",
      "Not divisible by 5 and 3\n",
      ".   .   .\n",
      "Number =  187\n",
      "Not divisible by 5 and 3\n",
      ".   .   .\n",
      "Number =  7896\n",
      "Divisible by 3\n",
      ".   .   .\n",
      "Number =  3\n",
      "Divisible by 3\n",
      ".   .   .\n",
      "Number =  305\n",
      "Divisible by 5\n",
      ".   .   .\n",
      "Number =  250\n",
      "Divisible by 5\n",
      ".   .   .\n",
      "Number =  33\n",
      "Divisible by 3\n",
      ".   .   .\n",
      "Number =  153\n",
      "Divisible by 3\n",
      ".   .   .\n",
      "Number =  90\n",
      "Divisible by 5\n",
      ".   .   .\n",
      "Number =  21\n",
      "Divisible by 3\n",
      ".   .   .\n",
      "Number =  789\n",
      "Divisible by 3\n",
      ".   .   .\n",
      "Number =  56\n",
      "Not divisible by 5 and 3\n",
      ".   .   .\n"
     ]
    }
   ],
   "source": [
    "for num in Numbers:\n",
    "    print('Number = ', num)\n",
    "    if num % 5 == 0:\n",
    "        print('Divisible by 5')\n",
    "    elif num % 3 == 0:\n",
    "        print('Divisible by 3')\n",
    "    else:\n",
    "        print('Not divisible by 5 and 3')\n",
    "    print('.   .   .')\n",
    "        \n"
   ]
  },
  {
   "cell_type": "markdown",
   "metadata": {},
   "source": [
    "Example 10"
   ]
  },
  {
   "cell_type": "code",
   "execution_count": 42,
   "metadata": {},
   "outputs": [],
   "source": [
    "movies = [\n",
    "    {'movie':'KGF' , 'imdb':8.1},\n",
    "    {'movie':'chhaava' , 'imdb':9.5},\n",
    "    {'movie':'gadar 2' , 'imdb':4.5},\n",
    "    {'movie':'Dangal' , 'imdb':8.3},\n",
    "    {'movie':'kalki' , 'imdb':6.5},\n",
    "    {'movie':'PK' , 'imdb':9},\n",
    "    {'movie':'Jigra' , 'imdb':4},\n",
    "    {'movie':'Bahubali' , 'imdb':8.9},\n",
    "    {'movie':'RRR' , 'imdb':7.5},\n",
    "    {'movie':'Maidan' , 'imdb':3.5},\n",
    "    {'movie':'Lagaan' , 'imdb':7.5}, \n",
    "    {'movie':'3 idiots' , 'imdb':9.5},\n",
    "]"
   ]
  },
  {
   "cell_type": "code",
   "execution_count": 43,
   "metadata": {},
   "outputs": [
    {
     "name": "stdout",
     "output_type": "stream",
     "text": [
      "KGF is Blockbuster Movie.\n",
      ". . . .\n",
      "chhaava is Blockbuster Movie.\n",
      ". . . .\n",
      "gadar 2 is Flop Movie.\n",
      ". . . .\n",
      "Dangal is Blockbuster Movie.\n",
      ". . . .\n",
      "kalki is Average Movie.\n",
      ". . . .\n",
      "PK is Blockbuster Movie.\n",
      ". . . .\n",
      "Jigra is Flop Movie.\n",
      ". . . .\n",
      "Bahubali is Blockbuster Movie.\n",
      ". . . .\n",
      "RRR is Average Movie.\n",
      ". . . .\n",
      "Maidan is Flop Movie.\n",
      ". . . .\n",
      "Lagaan is Average Movie.\n",
      ". . . .\n",
      "3 idiots is Blockbuster Movie.\n",
      ". . . .\n"
     ]
    }
   ],
   "source": [
    "for movie in movies:\n",
    "    if movie['imdb'] > 8:\n",
    "        print(f'{movie['movie']} is Blockbuster Movie.')\n",
    "    elif 5 < movie['imdb'] < 8:\n",
    "        print(f'{movie['movie']} is Average Movie.')\n",
    "    else:\n",
    "        print(f'{movie['movie']} is Flop Movie.')\n",
    "    print('. . . .')"
   ]
  },
  {
   "cell_type": "markdown",
   "metadata": {},
   "source": []
  }
 ],
 "metadata": {
  "kernelspec": {
   "display_name": "base",
   "language": "python",
   "name": "python3"
  },
  "language_info": {
   "codemirror_mode": {
    "name": "ipython",
    "version": 3
   },
   "file_extension": ".py",
   "mimetype": "text/x-python",
   "name": "python",
   "nbconvert_exporter": "python",
   "pygments_lexer": "ipython3",
   "version": "3.12.7"
  }
 },
 "nbformat": 4,
 "nbformat_minor": 2
}
